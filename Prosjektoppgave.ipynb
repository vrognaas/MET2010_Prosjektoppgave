{
 "cells": [
  {
   "cell_type": "markdown",
   "metadata": {},
   "source": [
    "# Prosjektoppgave MET2010"
   ]
  },
  {
   "cell_type": "markdown",
   "metadata": {},
   "source": [
    "## Innholdsfotegnelse\n",
    "1. Innledning\n",
    "2. Datainnhenting og strukturering\n",
    "3. \n",
    "4. \n",
    "5. \n",
    "6. "
   ]
  },
  {
   "cell_type": "markdown",
   "metadata": {},
   "source": [
    "## 1. Innledning"
   ]
  },
  {
   "cell_type": "markdown",
   "metadata": {},
   "source": [
    "I denne prosjektoppgaven vil jeg ta for meg data omhandlende vær, stråling og forurensing i Trondheim, dette for å se en sammenheng mellom disse og også kunne predikere når det er høyest andel av svevestøv. "
   ]
  },
  {
   "cell_type": "markdown",
   "metadata": {},
   "source": [
    "## 2. Datainnhenting"
   ]
  },
  {
   "cell_type": "markdown",
   "metadata": {},
   "source": [
    "Starter med å importere de relevante pakkene, for deretter å innhente værdata fra Metrologisk institutt. Målingene er gjort på Voll målestasjon i Trondheim. "
   ]
  },
  {
   "cell_type": "code",
   "execution_count": 167,
   "metadata": {},
   "outputs": [],
   "source": [
    "import pandas as pd\n",
    "import matplotlib.pyplot as plt\n",
    "import numpy as np"
   ]
  },
  {
   "cell_type": "code",
   "execution_count": 168,
   "metadata": {},
   "outputs": [],
   "source": [
    "weather = pd.read_csv(\"data/Temperatur_regn.csv\", sep=\";\", decimal=\",\")"
   ]
  },
  {
   "cell_type": "code",
   "execution_count": 169,
   "metadata": {},
   "outputs": [
    {
     "data": {
      "text/html": [
       "<div>\n",
       "<style scoped>\n",
       "    .dataframe tbody tr th:only-of-type {\n",
       "        vertical-align: middle;\n",
       "    }\n",
       "\n",
       "    .dataframe tbody tr th {\n",
       "        vertical-align: top;\n",
       "    }\n",
       "\n",
       "    .dataframe thead th {\n",
       "        text-align: right;\n",
       "    }\n",
       "</style>\n",
       "<table border=\"1\" class=\"dataframe\">\n",
       "  <thead>\n",
       "    <tr style=\"text-align: right;\">\n",
       "      <th></th>\n",
       "      <th>Navn</th>\n",
       "      <th>Stasjon</th>\n",
       "      <th>Tid(norsk normaltid)</th>\n",
       "      <th>Maksimumstemperatur (døgn)</th>\n",
       "      <th>Minimumstemperatur (døgn)</th>\n",
       "      <th>Høyeste middelvind (døgn)</th>\n",
       "      <th>Nedbør (døgn)</th>\n",
       "    </tr>\n",
       "  </thead>\n",
       "  <tbody>\n",
       "    <tr>\n",
       "      <th>2553</th>\n",
       "      <td>Trondheim - Voll</td>\n",
       "      <td>SN68860</td>\n",
       "      <td>28.12.2021</td>\n",
       "      <td>-4.5</td>\n",
       "      <td>-10.1</td>\n",
       "      <td>1,6</td>\n",
       "      <td>0.0</td>\n",
       "    </tr>\n",
       "    <tr>\n",
       "      <th>2554</th>\n",
       "      <td>Trondheim - Voll</td>\n",
       "      <td>SN68860</td>\n",
       "      <td>29.12.2021</td>\n",
       "      <td>-4.5</td>\n",
       "      <td>-9.7</td>\n",
       "      <td>2,4</td>\n",
       "      <td>0.0</td>\n",
       "    </tr>\n",
       "    <tr>\n",
       "      <th>2555</th>\n",
       "      <td>Trondheim - Voll</td>\n",
       "      <td>SN68860</td>\n",
       "      <td>30.12.2021</td>\n",
       "      <td>-0.4</td>\n",
       "      <td>-6.5</td>\n",
       "      <td>2,9</td>\n",
       "      <td>0.0</td>\n",
       "    </tr>\n",
       "    <tr>\n",
       "      <th>2556</th>\n",
       "      <td>Trondheim - Voll</td>\n",
       "      <td>SN68860</td>\n",
       "      <td>31.12.2021</td>\n",
       "      <td>2.4</td>\n",
       "      <td>-1.9</td>\n",
       "      <td>4,8</td>\n",
       "      <td>3.2</td>\n",
       "    </tr>\n",
       "    <tr>\n",
       "      <th>2557</th>\n",
       "      <td>Data er gyldig per 16.11.2022 (CC BY 4.0), Met...</td>\n",
       "      <td>NaN</td>\n",
       "      <td>NaN</td>\n",
       "      <td>NaN</td>\n",
       "      <td>NaN</td>\n",
       "      <td>NaN</td>\n",
       "      <td>NaN</td>\n",
       "    </tr>\n",
       "  </tbody>\n",
       "</table>\n",
       "</div>"
      ],
      "text/plain": [
       "                                                   Navn  Stasjon  \\\n",
       "2553                                   Trondheim - Voll  SN68860   \n",
       "2554                                   Trondheim - Voll  SN68860   \n",
       "2555                                   Trondheim - Voll  SN68860   \n",
       "2556                                   Trondheim - Voll  SN68860   \n",
       "2557  Data er gyldig per 16.11.2022 (CC BY 4.0), Met...      NaN   \n",
       "\n",
       "     Tid(norsk normaltid)  Maksimumstemperatur (døgn)  \\\n",
       "2553           28.12.2021                        -4.5   \n",
       "2554           29.12.2021                        -4.5   \n",
       "2555           30.12.2021                        -0.4   \n",
       "2556           31.12.2021                         2.4   \n",
       "2557                  NaN                         NaN   \n",
       "\n",
       "      Minimumstemperatur (døgn) Høyeste middelvind (døgn)  Nedbør (døgn)  \n",
       "2553                      -10.1                       1,6            0.0  \n",
       "2554                       -9.7                       2,4            0.0  \n",
       "2555                       -6.5                       2,9            0.0  \n",
       "2556                       -1.9                       4,8            3.2  \n",
       "2557                        NaN                       NaN            NaN  "
      ]
     },
     "execution_count": 169,
     "metadata": {},
     "output_type": "execute_result"
    }
   ],
   "source": [
    "weather.tail()"
   ]
  },
  {
   "cell_type": "code",
   "execution_count": 170,
   "metadata": {},
   "outputs": [],
   "source": [
    "weather.drop(weather.tail(1).index,inplace=True)"
   ]
  },
  {
   "cell_type": "code",
   "execution_count": 171,
   "metadata": {},
   "outputs": [],
   "source": [
    "weather.rename(columns={\"Tid(norsk normaltid)\" : \"Tid\"}, inplace=True)\n",
    "weather.rename(columns={\"Maksimumstemperatur (døgn)\" : \"Max_Temp\"}, inplace=True)\n",
    "weather.rename(columns={\"Minimumstemperatur (døgn)\" : \"Min_Temp\"}, inplace=True)\n",
    "weather.rename(columns={\"Høyeste middelvind (døgn)\" : \"Max_Wind\"}, inplace=True)\n",
    "weather.rename(columns={\"Nedbør (døgn)\" : \"Rain\"}, inplace=True)"
   ]
  },
  {
   "cell_type": "code",
   "execution_count": 172,
   "metadata": {},
   "outputs": [],
   "source": [
    "weather.set_index(\"Tid\", inplace=True)\n",
    "weather.index = pd.to_datetime(weather.index, format=\"%d.%m.%Y\").date"
   ]
  },
  {
   "cell_type": "code",
   "execution_count": 173,
   "metadata": {},
   "outputs": [
    {
     "name": "stdout",
     "output_type": "stream",
     "text": [
      "<class 'pandas.core.frame.DataFrame'>\n",
      "Index: 2557 entries, 2015-01-01 to 2021-12-31\n",
      "Data columns (total 6 columns):\n",
      " #   Column    Non-Null Count  Dtype  \n",
      "---  ------    --------------  -----  \n",
      " 0   Navn      2557 non-null   object \n",
      " 1   Stasjon   2557 non-null   object \n",
      " 2   Max_Temp  2557 non-null   float64\n",
      " 3   Min_Temp  2557 non-null   float64\n",
      " 4   Max_Wind  2557 non-null   object \n",
      " 5   Rain      2557 non-null   float64\n",
      "dtypes: float64(3), object(3)\n",
      "memory usage: 139.8+ KB\n"
     ]
    }
   ],
   "source": [
    "weather.info()"
   ]
  },
  {
   "cell_type": "code",
   "execution_count": 174,
   "metadata": {},
   "outputs": [],
   "source": [
    "weather[\"Max_Wind\"] = weather.Max_Wind.str.replace(',','.')\n",
    "weather[\"Max_Wind\"] = weather.Max_Wind.str.replace('-','0')\n"
   ]
  },
  {
   "cell_type": "code",
   "execution_count": 175,
   "metadata": {},
   "outputs": [],
   "source": [
    "weather[\"Max_Wind\"] = weather.Max_Wind.astype(\"float64\")"
   ]
  },
  {
   "cell_type": "code",
   "execution_count": 176,
   "metadata": {},
   "outputs": [],
   "source": [
    "uv = pd.read_table(\"https://raw.githubusercontent.com/uvnrpa/Daily_Doses/master/TRH_daily.txt\", skiprows=31)"
   ]
  },
  {
   "cell_type": "code",
   "execution_count": 177,
   "metadata": {},
   "outputs": [],
   "source": [
    "length_period = len(weather)"
   ]
  },
  {
   "cell_type": "code",
   "execution_count": 178,
   "metadata": {},
   "outputs": [],
   "source": [
    "uv = uv.tail(length_period)"
   ]
  },
  {
   "cell_type": "code",
   "execution_count": 179,
   "metadata": {},
   "outputs": [],
   "source": [
    "weather[\"UVA\"] = uv[\"UVA\"].to_numpy()\n",
    "weather[\"UVB\"] = uv[\"UVB\"].to_numpy()"
   ]
  },
  {
   "cell_type": "code",
   "execution_count": 180,
   "metadata": {},
   "outputs": [
    {
     "data": {
      "text/html": [
       "<div>\n",
       "<style scoped>\n",
       "    .dataframe tbody tr th:only-of-type {\n",
       "        vertical-align: middle;\n",
       "    }\n",
       "\n",
       "    .dataframe tbody tr th {\n",
       "        vertical-align: top;\n",
       "    }\n",
       "\n",
       "    .dataframe thead th {\n",
       "        text-align: right;\n",
       "    }\n",
       "</style>\n",
       "<table border=\"1\" class=\"dataframe\">\n",
       "  <thead>\n",
       "    <tr style=\"text-align: right;\">\n",
       "      <th></th>\n",
       "      <th>Navn</th>\n",
       "      <th>Stasjon</th>\n",
       "      <th>Max_Temp</th>\n",
       "      <th>Min_Temp</th>\n",
       "      <th>Max_Wind</th>\n",
       "      <th>Rain</th>\n",
       "      <th>UVA</th>\n",
       "      <th>UVB</th>\n",
       "    </tr>\n",
       "  </thead>\n",
       "  <tbody>\n",
       "    <tr>\n",
       "      <th>2021-12-27</th>\n",
       "      <td>Trondheim - Voll</td>\n",
       "      <td>SN68860</td>\n",
       "      <td>0.2</td>\n",
       "      <td>-7.3</td>\n",
       "      <td>4.2</td>\n",
       "      <td>1.2</td>\n",
       "      <td>24021.0</td>\n",
       "      <td>57.144</td>\n",
       "    </tr>\n",
       "    <tr>\n",
       "      <th>2021-12-28</th>\n",
       "      <td>Trondheim - Voll</td>\n",
       "      <td>SN68860</td>\n",
       "      <td>-4.5</td>\n",
       "      <td>-10.1</td>\n",
       "      <td>1.6</td>\n",
       "      <td>0.0</td>\n",
       "      <td>23988.0</td>\n",
       "      <td>46.431</td>\n",
       "    </tr>\n",
       "    <tr>\n",
       "      <th>2021-12-29</th>\n",
       "      <td>Trondheim - Voll</td>\n",
       "      <td>SN68860</td>\n",
       "      <td>-4.5</td>\n",
       "      <td>-9.7</td>\n",
       "      <td>2.4</td>\n",
       "      <td>0.0</td>\n",
       "      <td>19061.0</td>\n",
       "      <td>32.673</td>\n",
       "    </tr>\n",
       "    <tr>\n",
       "      <th>2021-12-30</th>\n",
       "      <td>Trondheim - Voll</td>\n",
       "      <td>SN68860</td>\n",
       "      <td>-0.4</td>\n",
       "      <td>-6.5</td>\n",
       "      <td>2.9</td>\n",
       "      <td>0.0</td>\n",
       "      <td>24308.0</td>\n",
       "      <td>30.534</td>\n",
       "    </tr>\n",
       "    <tr>\n",
       "      <th>2021-12-31</th>\n",
       "      <td>Trondheim - Voll</td>\n",
       "      <td>SN68860</td>\n",
       "      <td>2.4</td>\n",
       "      <td>-1.9</td>\n",
       "      <td>4.8</td>\n",
       "      <td>3.2</td>\n",
       "      <td>17993.0</td>\n",
       "      <td>19.491</td>\n",
       "    </tr>\n",
       "  </tbody>\n",
       "</table>\n",
       "</div>"
      ],
      "text/plain": [
       "                        Navn  Stasjon  Max_Temp  Min_Temp  Max_Wind  Rain  \\\n",
       "2021-12-27  Trondheim - Voll  SN68860       0.2      -7.3       4.2   1.2   \n",
       "2021-12-28  Trondheim - Voll  SN68860      -4.5     -10.1       1.6   0.0   \n",
       "2021-12-29  Trondheim - Voll  SN68860      -4.5      -9.7       2.4   0.0   \n",
       "2021-12-30  Trondheim - Voll  SN68860      -0.4      -6.5       2.9   0.0   \n",
       "2021-12-31  Trondheim - Voll  SN68860       2.4      -1.9       4.8   3.2   \n",
       "\n",
       "                UVA     UVB  \n",
       "2021-12-27  24021.0  57.144  \n",
       "2021-12-28  23988.0  46.431  \n",
       "2021-12-29  19061.0  32.673  \n",
       "2021-12-30  24308.0  30.534  \n",
       "2021-12-31  17993.0  19.491  "
      ]
     },
     "execution_count": 180,
     "metadata": {},
     "output_type": "execute_result"
    }
   ],
   "source": [
    "weather.tail()"
   ]
  },
  {
   "cell_type": "code",
   "execution_count": 181,
   "metadata": {},
   "outputs": [],
   "source": [
    "weather = weather.drop(\"Stasjon\", axis=1)"
   ]
  },
  {
   "cell_type": "code",
   "execution_count": 182,
   "metadata": {},
   "outputs": [],
   "source": [
    "pressure = pd.read_csv(\"data/Lufttrykk.csv\", sep=\";\", decimal=\",\")\n",
    "pressure.drop(pressure.tail(1).index,inplace=True)"
   ]
  },
  {
   "cell_type": "code",
   "execution_count": 183,
   "metadata": {},
   "outputs": [
    {
     "data": {
      "text/plain": [
       "Index(['Navn', 'Stasjon', 'Tid(norsk normaltid)',\n",
       "       'Høyeste lufttrykk i havnivå (døgn)',\n",
       "       'Laveste lufttrykk i havnivå (døgn)'],\n",
       "      dtype='object')"
      ]
     },
     "execution_count": 183,
     "metadata": {},
     "output_type": "execute_result"
    }
   ],
   "source": [
    "pressure.columns"
   ]
  },
  {
   "cell_type": "code",
   "execution_count": 184,
   "metadata": {},
   "outputs": [],
   "source": [
    "weather[\"Max_Pressure\"] = pressure[\"Høyeste lufttrykk i havnivå (døgn)\"].to_numpy()\n",
    "weather[\"Min_Pressure\"] = pressure[\"Laveste lufttrykk i havnivå (døgn)\"].to_numpy()"
   ]
  },
  {
   "cell_type": "code",
   "execution_count": 185,
   "metadata": {},
   "outputs": [
    {
     "data": {
      "text/html": [
       "<div>\n",
       "<style scoped>\n",
       "    .dataframe tbody tr th:only-of-type {\n",
       "        vertical-align: middle;\n",
       "    }\n",
       "\n",
       "    .dataframe tbody tr th {\n",
       "        vertical-align: top;\n",
       "    }\n",
       "\n",
       "    .dataframe thead th {\n",
       "        text-align: right;\n",
       "    }\n",
       "</style>\n",
       "<table border=\"1\" class=\"dataframe\">\n",
       "  <thead>\n",
       "    <tr style=\"text-align: right;\">\n",
       "      <th></th>\n",
       "      <th>Navn</th>\n",
       "      <th>Max_Temp</th>\n",
       "      <th>Min_Temp</th>\n",
       "      <th>Max_Wind</th>\n",
       "      <th>Rain</th>\n",
       "      <th>UVA</th>\n",
       "      <th>UVB</th>\n",
       "      <th>Max_Pressure</th>\n",
       "      <th>Min_Pressure</th>\n",
       "    </tr>\n",
       "  </thead>\n",
       "  <tbody>\n",
       "    <tr>\n",
       "      <th>2015-01-01</th>\n",
       "      <td>False</td>\n",
       "      <td>False</td>\n",
       "      <td>False</td>\n",
       "      <td>False</td>\n",
       "      <td>False</td>\n",
       "      <td>False</td>\n",
       "      <td>False</td>\n",
       "      <td>False</td>\n",
       "      <td>False</td>\n",
       "    </tr>\n",
       "    <tr>\n",
       "      <th>2015-01-02</th>\n",
       "      <td>False</td>\n",
       "      <td>False</td>\n",
       "      <td>False</td>\n",
       "      <td>False</td>\n",
       "      <td>False</td>\n",
       "      <td>False</td>\n",
       "      <td>False</td>\n",
       "      <td>False</td>\n",
       "      <td>False</td>\n",
       "    </tr>\n",
       "    <tr>\n",
       "      <th>2015-01-03</th>\n",
       "      <td>False</td>\n",
       "      <td>False</td>\n",
       "      <td>False</td>\n",
       "      <td>False</td>\n",
       "      <td>False</td>\n",
       "      <td>False</td>\n",
       "      <td>False</td>\n",
       "      <td>False</td>\n",
       "      <td>False</td>\n",
       "    </tr>\n",
       "    <tr>\n",
       "      <th>2015-01-04</th>\n",
       "      <td>False</td>\n",
       "      <td>False</td>\n",
       "      <td>False</td>\n",
       "      <td>False</td>\n",
       "      <td>False</td>\n",
       "      <td>False</td>\n",
       "      <td>False</td>\n",
       "      <td>False</td>\n",
       "      <td>False</td>\n",
       "    </tr>\n",
       "    <tr>\n",
       "      <th>2015-01-05</th>\n",
       "      <td>False</td>\n",
       "      <td>False</td>\n",
       "      <td>False</td>\n",
       "      <td>False</td>\n",
       "      <td>False</td>\n",
       "      <td>False</td>\n",
       "      <td>False</td>\n",
       "      <td>False</td>\n",
       "      <td>False</td>\n",
       "    </tr>\n",
       "    <tr>\n",
       "      <th>...</th>\n",
       "      <td>...</td>\n",
       "      <td>...</td>\n",
       "      <td>...</td>\n",
       "      <td>...</td>\n",
       "      <td>...</td>\n",
       "      <td>...</td>\n",
       "      <td>...</td>\n",
       "      <td>...</td>\n",
       "      <td>...</td>\n",
       "    </tr>\n",
       "    <tr>\n",
       "      <th>2021-12-27</th>\n",
       "      <td>False</td>\n",
       "      <td>False</td>\n",
       "      <td>False</td>\n",
       "      <td>False</td>\n",
       "      <td>False</td>\n",
       "      <td>False</td>\n",
       "      <td>False</td>\n",
       "      <td>False</td>\n",
       "      <td>False</td>\n",
       "    </tr>\n",
       "    <tr>\n",
       "      <th>2021-12-28</th>\n",
       "      <td>False</td>\n",
       "      <td>False</td>\n",
       "      <td>False</td>\n",
       "      <td>False</td>\n",
       "      <td>False</td>\n",
       "      <td>False</td>\n",
       "      <td>False</td>\n",
       "      <td>False</td>\n",
       "      <td>False</td>\n",
       "    </tr>\n",
       "    <tr>\n",
       "      <th>2021-12-29</th>\n",
       "      <td>False</td>\n",
       "      <td>False</td>\n",
       "      <td>False</td>\n",
       "      <td>False</td>\n",
       "      <td>False</td>\n",
       "      <td>False</td>\n",
       "      <td>False</td>\n",
       "      <td>False</td>\n",
       "      <td>False</td>\n",
       "    </tr>\n",
       "    <tr>\n",
       "      <th>2021-12-30</th>\n",
       "      <td>False</td>\n",
       "      <td>False</td>\n",
       "      <td>False</td>\n",
       "      <td>False</td>\n",
       "      <td>False</td>\n",
       "      <td>False</td>\n",
       "      <td>False</td>\n",
       "      <td>False</td>\n",
       "      <td>False</td>\n",
       "    </tr>\n",
       "    <tr>\n",
       "      <th>2021-12-31</th>\n",
       "      <td>False</td>\n",
       "      <td>False</td>\n",
       "      <td>False</td>\n",
       "      <td>False</td>\n",
       "      <td>False</td>\n",
       "      <td>False</td>\n",
       "      <td>False</td>\n",
       "      <td>False</td>\n",
       "      <td>False</td>\n",
       "    </tr>\n",
       "  </tbody>\n",
       "</table>\n",
       "<p>2557 rows × 9 columns</p>\n",
       "</div>"
      ],
      "text/plain": [
       "             Navn  Max_Temp  Min_Temp  Max_Wind   Rain    UVA    UVB  \\\n",
       "2015-01-01  False     False     False     False  False  False  False   \n",
       "2015-01-02  False     False     False     False  False  False  False   \n",
       "2015-01-03  False     False     False     False  False  False  False   \n",
       "2015-01-04  False     False     False     False  False  False  False   \n",
       "2015-01-05  False     False     False     False  False  False  False   \n",
       "...           ...       ...       ...       ...    ...    ...    ...   \n",
       "2021-12-27  False     False     False     False  False  False  False   \n",
       "2021-12-28  False     False     False     False  False  False  False   \n",
       "2021-12-29  False     False     False     False  False  False  False   \n",
       "2021-12-30  False     False     False     False  False  False  False   \n",
       "2021-12-31  False     False     False     False  False  False  False   \n",
       "\n",
       "            Max_Pressure  Min_Pressure  \n",
       "2015-01-01         False         False  \n",
       "2015-01-02         False         False  \n",
       "2015-01-03         False         False  \n",
       "2015-01-04         False         False  \n",
       "2015-01-05         False         False  \n",
       "...                  ...           ...  \n",
       "2021-12-27         False         False  \n",
       "2021-12-28         False         False  \n",
       "2021-12-29         False         False  \n",
       "2021-12-30         False         False  \n",
       "2021-12-31         False         False  \n",
       "\n",
       "[2557 rows x 9 columns]"
      ]
     },
     "execution_count": 185,
     "metadata": {},
     "output_type": "execute_result"
    }
   ],
   "source": [
    "weather.isnull()"
   ]
  },
  {
   "cell_type": "code",
   "execution_count": null,
   "metadata": {},
   "outputs": [],
   "source": []
  }
 ],
 "metadata": {
  "kernelspec": {
   "display_name": "Python 3.10.8 ('MET2010')",
   "language": "python",
   "name": "python3"
  },
  "language_info": {
   "codemirror_mode": {
    "name": "ipython",
    "version": 3
   },
   "file_extension": ".py",
   "mimetype": "text/x-python",
   "name": "python",
   "nbconvert_exporter": "python",
   "pygments_lexer": "ipython3",
   "version": "3.10.8"
  },
  "orig_nbformat": 4,
  "vscode": {
   "interpreter": {
    "hash": "ebd08850d4d2a190c18b3eb8a492dc818d35f030554d5d47a386964b51908623"
   }
  }
 },
 "nbformat": 4,
 "nbformat_minor": 2
}
