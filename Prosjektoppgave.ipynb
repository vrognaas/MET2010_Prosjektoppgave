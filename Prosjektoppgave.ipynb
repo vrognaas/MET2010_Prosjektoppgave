{
 "cells": [
  {
   "cell_type": "markdown",
   "metadata": {},
   "source": [
    "# Prosjektoppgave MET2010"
   ]
  },
  {
   "cell_type": "markdown",
   "metadata": {},
   "source": [
    "## Innholdsfotegnelse\n",
    "1. Datainnhenting og strukturering\n",
    "2. \n",
    "3. \n",
    "4. \n",
    "5. \n",
    "6. "
   ]
  },
  {
   "cell_type": "markdown",
   "metadata": {},
   "source": [
    "## 1. Datainnhenting"
   ]
  },
  {
   "cell_type": "code",
   "execution_count": 15,
   "metadata": {},
   "outputs": [],
   "source": [
    "import pandas as pd\n",
    "import matplotlib.pyplot as plt\n",
    "import numpy as np"
   ]
  },
  {
   "cell_type": "code",
   "execution_count": 16,
   "metadata": {},
   "outputs": [],
   "source": [
    "weather = pd.read_csv(\"data/Temperatur_regn.csv\", sep=\";\", decimal=\",\")"
   ]
  },
  {
   "cell_type": "code",
   "execution_count": 17,
   "metadata": {},
   "outputs": [
    {
     "data": {
      "text/html": [
       "<div>\n",
       "<style scoped>\n",
       "    .dataframe tbody tr th:only-of-type {\n",
       "        vertical-align: middle;\n",
       "    }\n",
       "\n",
       "    .dataframe tbody tr th {\n",
       "        vertical-align: top;\n",
       "    }\n",
       "\n",
       "    .dataframe thead th {\n",
       "        text-align: right;\n",
       "    }\n",
       "</style>\n",
       "<table border=\"1\" class=\"dataframe\">\n",
       "  <thead>\n",
       "    <tr style=\"text-align: right;\">\n",
       "      <th></th>\n",
       "      <th>Navn</th>\n",
       "      <th>Stasjon</th>\n",
       "      <th>Tid(norsk normaltid)</th>\n",
       "      <th>Maksimumstemperatur (døgn)</th>\n",
       "      <th>Minimumstemperatur (døgn)</th>\n",
       "      <th>Høyeste middelvind (døgn)</th>\n",
       "      <th>Nedbør (døgn)</th>\n",
       "    </tr>\n",
       "  </thead>\n",
       "  <tbody>\n",
       "    <tr>\n",
       "      <th>2553</th>\n",
       "      <td>Trondheim - Voll</td>\n",
       "      <td>SN68860</td>\n",
       "      <td>28.12.2021</td>\n",
       "      <td>-4.5</td>\n",
       "      <td>-10.1</td>\n",
       "      <td>1,6</td>\n",
       "      <td>0.0</td>\n",
       "    </tr>\n",
       "    <tr>\n",
       "      <th>2554</th>\n",
       "      <td>Trondheim - Voll</td>\n",
       "      <td>SN68860</td>\n",
       "      <td>29.12.2021</td>\n",
       "      <td>-4.5</td>\n",
       "      <td>-9.7</td>\n",
       "      <td>2,4</td>\n",
       "      <td>0.0</td>\n",
       "    </tr>\n",
       "    <tr>\n",
       "      <th>2555</th>\n",
       "      <td>Trondheim - Voll</td>\n",
       "      <td>SN68860</td>\n",
       "      <td>30.12.2021</td>\n",
       "      <td>-0.4</td>\n",
       "      <td>-6.5</td>\n",
       "      <td>2,9</td>\n",
       "      <td>0.0</td>\n",
       "    </tr>\n",
       "    <tr>\n",
       "      <th>2556</th>\n",
       "      <td>Trondheim - Voll</td>\n",
       "      <td>SN68860</td>\n",
       "      <td>31.12.2021</td>\n",
       "      <td>2.4</td>\n",
       "      <td>-1.9</td>\n",
       "      <td>4,8</td>\n",
       "      <td>3.2</td>\n",
       "    </tr>\n",
       "    <tr>\n",
       "      <th>2557</th>\n",
       "      <td>Data er gyldig per 16.11.2022 (CC BY 4.0), Met...</td>\n",
       "      <td>NaN</td>\n",
       "      <td>NaN</td>\n",
       "      <td>NaN</td>\n",
       "      <td>NaN</td>\n",
       "      <td>NaN</td>\n",
       "      <td>NaN</td>\n",
       "    </tr>\n",
       "  </tbody>\n",
       "</table>\n",
       "</div>"
      ],
      "text/plain": [
       "                                                   Navn  Stasjon  \\\n",
       "2553                                   Trondheim - Voll  SN68860   \n",
       "2554                                   Trondheim - Voll  SN68860   \n",
       "2555                                   Trondheim - Voll  SN68860   \n",
       "2556                                   Trondheim - Voll  SN68860   \n",
       "2557  Data er gyldig per 16.11.2022 (CC BY 4.0), Met...      NaN   \n",
       "\n",
       "     Tid(norsk normaltid)  Maksimumstemperatur (døgn)  \\\n",
       "2553           28.12.2021                        -4.5   \n",
       "2554           29.12.2021                        -4.5   \n",
       "2555           30.12.2021                        -0.4   \n",
       "2556           31.12.2021                         2.4   \n",
       "2557                  NaN                         NaN   \n",
       "\n",
       "      Minimumstemperatur (døgn) Høyeste middelvind (døgn)  Nedbør (døgn)  \n",
       "2553                      -10.1                       1,6            0.0  \n",
       "2554                       -9.7                       2,4            0.0  \n",
       "2555                       -6.5                       2,9            0.0  \n",
       "2556                       -1.9                       4,8            3.2  \n",
       "2557                        NaN                       NaN            NaN  "
      ]
     },
     "execution_count": 17,
     "metadata": {},
     "output_type": "execute_result"
    }
   ],
   "source": [
    "weather.tail()"
   ]
  },
  {
   "cell_type": "code",
   "execution_count": 18,
   "metadata": {},
   "outputs": [],
   "source": [
    "weather.drop(weather.tail(1).index,inplace=True)"
   ]
  },
  {
   "cell_type": "code",
   "execution_count": 19,
   "metadata": {},
   "outputs": [],
   "source": [
    "weather.rename(columns={\"Tid(norsk normaltid)\" : \"Tid\"}, inplace=True)\n",
    "weather.rename(columns={\"Maksimumstemperatur (døgn)\" : \"Max_Temp\"}, inplace=True)\n",
    "weather.rename(columns={\"Minimumstemperatur (døgn)\" : \"Min_Temp\"}, inplace=True)\n",
    "weather.rename(columns={\"Høyeste middelvind (døgn)\" : \"Max_Wind\"}, inplace=True)\n",
    "weather.rename(columns={\"Nedbør (døgn)\" : \"Rain\"}, inplace=True)"
   ]
  },
  {
   "cell_type": "code",
   "execution_count": 20,
   "metadata": {},
   "outputs": [],
   "source": [
    "weather.set_index(\"Tid\", inplace=True)\n",
    "weather.index = pd.to_datetime(weather.index, format=\"%d.%m.%Y\").date"
   ]
  }
 ],
 "metadata": {
  "kernelspec": {
   "display_name": "Python 3.10.8 ('MET2010')",
   "language": "python",
   "name": "python3"
  },
  "language_info": {
   "codemirror_mode": {
    "name": "ipython",
    "version": 3
   },
   "file_extension": ".py",
   "mimetype": "text/x-python",
   "name": "python",
   "nbconvert_exporter": "python",
   "pygments_lexer": "ipython3",
   "version": "3.10.8"
  },
  "orig_nbformat": 4,
  "vscode": {
   "interpreter": {
    "hash": "ebd08850d4d2a190c18b3eb8a492dc818d35f030554d5d47a386964b51908623"
   }
  }
 },
 "nbformat": 4,
 "nbformat_minor": 2
}
